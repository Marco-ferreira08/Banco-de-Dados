{
 "cells": [
  {
   "cell_type": "code",
   "execution_count": 35,
   "id": "8fc025a2",
   "metadata": {},
   "outputs": [],
   "source": [
    "# %pip install pandas\n",
    "import json\n",
    "import pandas as pd\n",
    "\n",
    "pd.set_option('display.max_rows',5)"
   ]
  },
  {
   "cell_type": "code",
   "execution_count": 45,
   "id": "a2616b20",
   "metadata": {},
   "outputs": [
    {
     "name": "stdout",
     "output_type": "stream",
     "text": [
      "<class 'pandas.core.frame.DataFrame'>\n",
      "RangeIndex: 51 entries, 0 to 50\n",
      "Data columns (total 6 columns):\n",
      " #   Column        Non-Null Count  Dtype \n",
      "---  ------        --------------  ----- \n",
      " 0   id            51 non-null     object\n",
      " 1   tradingName   51 non-null     object\n",
      " 2   ownerName     51 non-null     object\n",
      " 3   document      51 non-null     object\n",
      " 4   coverageArea  51 non-null     object\n",
      " 5   address       51 non-null     object\n",
      "dtypes: object(6)\n",
      "memory usage: 2.5+ KB\n",
      "None\n"
     ]
    },
    {
     "data": {
      "text/html": [
       "<div>\n",
       "<style scoped>\n",
       "    .dataframe tbody tr th:only-of-type {\n",
       "        vertical-align: middle;\n",
       "    }\n",
       "\n",
       "    .dataframe tbody tr th {\n",
       "        vertical-align: top;\n",
       "    }\n",
       "\n",
       "    .dataframe thead th {\n",
       "        text-align: right;\n",
       "    }\n",
       "</style>\n",
       "<table border=\"1\" class=\"dataframe\">\n",
       "  <thead>\n",
       "    <tr style=\"text-align: right;\">\n",
       "      <th></th>\n",
       "      <th>id</th>\n",
       "      <th>tradingName</th>\n",
       "      <th>ownerName</th>\n",
       "      <th>document</th>\n",
       "      <th>coverageArea</th>\n",
       "      <th>address</th>\n",
       "    </tr>\n",
       "  </thead>\n",
       "  <tbody>\n",
       "    <tr>\n",
       "      <th>0</th>\n",
       "      <td>1</td>\n",
       "      <td>Adega Osasco</td>\n",
       "      <td>Ze da Ambev</td>\n",
       "      <td>02.453.716/000170</td>\n",
       "      <td>{'type': 'MultiPolygon', 'coordinates': [[[[-4...</td>\n",
       "      <td>{'type': 'Point', 'coordinates': [-43.297337, ...</td>\n",
       "    </tr>\n",
       "    <tr>\n",
       "      <th>1</th>\n",
       "      <td>2</td>\n",
       "      <td>Adega Pinheiros</td>\n",
       "      <td>Ze da Silva</td>\n",
       "      <td>04.433.714/0001-44</td>\n",
       "      <td>{'type': 'MultiPolygon', 'coordinates': [[[[-4...</td>\n",
       "      <td>{'type': 'Point', 'coordinates': [-49.33425, -...</td>\n",
       "    </tr>\n",
       "    <tr>\n",
       "      <th>...</th>\n",
       "      <td>...</td>\n",
       "      <td>...</td>\n",
       "      <td>...</td>\n",
       "      <td>...</td>\n",
       "      <td>...</td>\n",
       "      <td>...</td>\n",
       "    </tr>\n",
       "    <tr>\n",
       "      <th>49</th>\n",
       "      <td>50</td>\n",
       "      <td>Adega Emporio</td>\n",
       "      <td>Eduardo Pipoca</td>\n",
       "      <td>82.666.231/0001-01</td>\n",
       "      <td>{'type': 'MultiPolygon', 'coordinates': [[[[-6...</td>\n",
       "      <td>{'type': 'Point', 'coordinates': [-67.81702, -...</td>\n",
       "    </tr>\n",
       "    <tr>\n",
       "      <th>50</th>\n",
       "      <td>51</td>\n",
       "      <td>Adega do Joao</td>\n",
       "      <td>Pele Maradona</td>\n",
       "      <td>960361.506-44</td>\n",
       "      <td>{'type': 'MultiPolygon', 'coordinates': [[[[-4...</td>\n",
       "      <td>{'type': 'Point', 'coordinates': [-44.012478, ...</td>\n",
       "    </tr>\n",
       "  </tbody>\n",
       "</table>\n",
       "<p>51 rows × 6 columns</p>\n",
       "</div>"
      ],
      "text/plain": [
       "    id      tradingName       ownerName            document  \\\n",
       "0    1     Adega Osasco     Ze da Ambev   02.453.716/000170   \n",
       "1    2  Adega Pinheiros     Ze da Silva  04.433.714/0001-44   \n",
       "..  ..              ...             ...                 ...   \n",
       "49  50    Adega Emporio  Eduardo Pipoca  82.666.231/0001-01   \n",
       "50  51    Adega do Joao   Pele Maradona       960361.506-44   \n",
       "\n",
       "                                         coverageArea  \\\n",
       "0   {'type': 'MultiPolygon', 'coordinates': [[[[-4...   \n",
       "1   {'type': 'MultiPolygon', 'coordinates': [[[[-4...   \n",
       "..                                                ...   \n",
       "49  {'type': 'MultiPolygon', 'coordinates': [[[[-6...   \n",
       "50  {'type': 'MultiPolygon', 'coordinates': [[[[-4...   \n",
       "\n",
       "                                              address  \n",
       "0   {'type': 'Point', 'coordinates': [-43.297337, ...  \n",
       "1   {'type': 'Point', 'coordinates': [-49.33425, -...  \n",
       "..                                                ...  \n",
       "49  {'type': 'Point', 'coordinates': [-67.81702, -...  \n",
       "50  {'type': 'Point', 'coordinates': [-44.012478, ...  \n",
       "\n",
       "[51 rows x 6 columns]"
      ]
     },
     "metadata": {},
     "output_type": "display_data"
    }
   ],
   "source": [
    "with open(\"pdvs.json\", \"r\") as fp:\n",
    "    parceiros = json.load(fp)\n",
    "\n",
    "parceiros_df = pd.DataFrame(parceiros[\"pdvs\"])\n",
    "print(parceiros_df.info())\n",
    "display(parceiros_df)"
   ]
  },
  {
   "cell_type": "code",
   "execution_count": 83,
   "id": "4cb8593a",
   "metadata": {},
   "outputs": [
    {
     "data": {
      "text/plain": [
       "'22.15.127.213/0001-56.752/0001-90'"
      ]
     },
     "metadata": {},
     "output_type": "display_data"
    }
   ],
   "source": [
    "document_length = parceiros_df['document'].apply(lambda x: len(x))\n",
    "parceiros_df[\"documentLen\"] = document_length\n",
    "display(parceiros_df.iloc[28].document)"
   ]
  }
 ],
 "metadata": {
  "kernelspec": {
   "display_name": ".venv",
   "language": "python",
   "name": "python3"
  },
  "language_info": {
   "codemirror_mode": {
    "name": "ipython",
    "version": 3
   },
   "file_extension": ".py",
   "mimetype": "text/x-python",
   "name": "python",
   "nbconvert_exporter": "python",
   "pygments_lexer": "ipython3",
   "version": "3.12.3"
  }
 },
 "nbformat": 4,
 "nbformat_minor": 5
}
